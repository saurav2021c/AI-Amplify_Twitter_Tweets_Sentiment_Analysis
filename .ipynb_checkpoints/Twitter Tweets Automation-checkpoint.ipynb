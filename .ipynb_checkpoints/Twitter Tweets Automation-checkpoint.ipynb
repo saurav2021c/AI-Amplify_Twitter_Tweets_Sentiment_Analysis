{
 "cells": [
  {
   "cell_type": "markdown",
   "id": "376688e2",
   "metadata": {},
   "source": [
    "# Twitter Tweets Automation"
   ]
  },
  {
   "cell_type": "code",
   "execution_count": 1,
   "id": "92236e7f",
   "metadata": {},
   "outputs": [
    {
     "ename": "TimeoutException",
     "evalue": "Message: \nStacktrace:\nBacktrace:\n\tGetHandleVerifier [0x008FA813+48355]\n\t(No symbol) [0x0088C4B1]\n\t(No symbol) [0x00795358]\n\t(No symbol) [0x007C09A5]\n\t(No symbol) [0x007C0B3B]\n\t(No symbol) [0x007EE232]\n\t(No symbol) [0x007DA784]\n\t(No symbol) [0x007EC922]\n\t(No symbol) [0x007DA536]\n\t(No symbol) [0x007B82DC]\n\t(No symbol) [0x007B93DD]\n\tGetHandleVerifier [0x00B5AABD+2539405]\n\tGetHandleVerifier [0x00B9A78F+2800735]\n\tGetHandleVerifier [0x00B9456C+2775612]\n\tGetHandleVerifier [0x009851E0+616112]\n\t(No symbol) [0x00895F8C]\n\t(No symbol) [0x00892328]\n\t(No symbol) [0x0089240B]\n\t(No symbol) [0x00884FF7]\n\tBaseThreadInitThunk [0x76157D59+25]\n\tRtlInitializeExceptionChain [0x770DB79B+107]\n\tRtlClearBits [0x770DB71F+191]\n",
     "output_type": "error",
     "traceback": [
      "\u001b[1;31m---------------------------------------------------------------------------\u001b[0m",
      "\u001b[1;31mTimeoutException\u001b[0m                          Traceback (most recent call last)",
      "Cell \u001b[1;32mIn[1], line 33\u001b[0m\n\u001b[0;32m     29\u001b[0m \u001b[38;5;66;03m#Presses the login button, and creates a wait time to let the home page fully load in\u001b[39;00m\n\u001b[0;32m     30\u001b[0m \u001b[38;5;66;03m#if your getting an error here just make your browser full screen, it should work then\u001b[39;00m\n\u001b[0;32m     31\u001b[0m loginButton \u001b[38;5;241m=\u001b[39m driver\u001b[38;5;241m.\u001b[39mfind_element(By\u001b[38;5;241m.\u001b[39mXPATH, \u001b[38;5;124m'\u001b[39m\u001b[38;5;124m//*[@id=\u001b[39m\u001b[38;5;124m\"\u001b[39m\u001b[38;5;124mlayers\u001b[39m\u001b[38;5;124m\"\u001b[39m\u001b[38;5;124m]/div/div/div/div/div/div/div[2]/div[2]/div/div/div[2]/div[2]/div[2]/div/div[1]/div/div/div/div\u001b[39m\u001b[38;5;124m'\u001b[39m)\u001b[38;5;241m.\u001b[39mclick()\n\u001b[1;32m---> 33\u001b[0m \u001b[43mWebDriverWait\u001b[49m\u001b[43m(\u001b[49m\u001b[43mdriver\u001b[49m\u001b[43m,\u001b[49m\u001b[38;5;241;43m5\u001b[39;49m\u001b[43m)\u001b[49m\u001b[38;5;241;43m.\u001b[39;49m\u001b[43muntil\u001b[49m\u001b[43m(\u001b[49m\u001b[43mEC\u001b[49m\u001b[38;5;241;43m.\u001b[39;49m\u001b[43mpresence_of_element_located\u001b[49m\u001b[43m(\u001b[49m\u001b[43m(\u001b[49m\u001b[43mBy\u001b[49m\u001b[38;5;241;43m.\u001b[39;49m\u001b[43mXPATH\u001b[49m\u001b[43m,\u001b[49m\u001b[43m \u001b[49m\u001b[38;5;124;43m'\u001b[39;49m\u001b[38;5;124;43m//*[@id=\u001b[39;49m\u001b[38;5;124;43m\"\u001b[39;49m\u001b[38;5;124;43mreact-root\u001b[39;49m\u001b[38;5;124;43m\"\u001b[39;49m\u001b[38;5;124;43m]/div/div/div[2]/main/div/div/div/div[2]/div/div[2]/div/div/div/div[4]/div/section/div/div/div/div/div[2]/div/div/h2/div[2]/span\u001b[39;49m\u001b[38;5;124;43m'\u001b[39;49m\u001b[43m)\u001b[49m\u001b[43m)\u001b[49m\u001b[43m)\u001b[49m\n\u001b[0;32m     35\u001b[0m \u001b[38;5;66;03m#inputs the name from the celebrity variable into the search box and presses enter\u001b[39;00m\n\u001b[0;32m     36\u001b[0m search \u001b[38;5;241m=\u001b[39m driver\u001b[38;5;241m.\u001b[39mfind_element(By\u001b[38;5;241m.\u001b[39mXPATH, \u001b[38;5;124m'\u001b[39m\u001b[38;5;124m//*[@id=\u001b[39m\u001b[38;5;124m\"\u001b[39m\u001b[38;5;124mreact-root\u001b[39m\u001b[38;5;124m\"\u001b[39m\u001b[38;5;124m]/div/div/div[2]/main/div/div/div/div[2]/div/div[2]/div/div/div/div[1]/div/div/div/form/div[1]/div/div/div/label/div[2]/div/input\u001b[39m\u001b[38;5;124m'\u001b[39m)\n",
      "File \u001b[1;32m~\\AppData\\Local\\Programs\\Python\\Python311\\Lib\\site-packages\\selenium\\webdriver\\support\\wait.py:95\u001b[0m, in \u001b[0;36mWebDriverWait.until\u001b[1;34m(self, method, message)\u001b[0m\n\u001b[0;32m     93\u001b[0m     \u001b[38;5;28;01mif\u001b[39;00m time\u001b[38;5;241m.\u001b[39mmonotonic() \u001b[38;5;241m>\u001b[39m end_time:\n\u001b[0;32m     94\u001b[0m         \u001b[38;5;28;01mbreak\u001b[39;00m\n\u001b[1;32m---> 95\u001b[0m \u001b[38;5;28;01mraise\u001b[39;00m TimeoutException(message, screen, stacktrace)\n",
      "\u001b[1;31mTimeoutException\u001b[0m: Message: \nStacktrace:\nBacktrace:\n\tGetHandleVerifier [0x008FA813+48355]\n\t(No symbol) [0x0088C4B1]\n\t(No symbol) [0x00795358]\n\t(No symbol) [0x007C09A5]\n\t(No symbol) [0x007C0B3B]\n\t(No symbol) [0x007EE232]\n\t(No symbol) [0x007DA784]\n\t(No symbol) [0x007EC922]\n\t(No symbol) [0x007DA536]\n\t(No symbol) [0x007B82DC]\n\t(No symbol) [0x007B93DD]\n\tGetHandleVerifier [0x00B5AABD+2539405]\n\tGetHandleVerifier [0x00B9A78F+2800735]\n\tGetHandleVerifier [0x00B9456C+2775612]\n\tGetHandleVerifier [0x009851E0+616112]\n\t(No symbol) [0x00895F8C]\n\t(No symbol) [0x00892328]\n\t(No symbol) [0x0089240B]\n\t(No symbol) [0x00884FF7]\n\tBaseThreadInitThunk [0x76157D59+25]\n\tRtlInitializeExceptionChain [0x770DB79B+107]\n\tRtlClearBits [0x770DB71F+191]\n"
     ]
    }
   ],
   "source": [
    "from selenium import webdriver\n",
    "from selenium.webdriver.common.by import By\n",
    "from selenium.webdriver.common.keys import Keys\n",
    "from selenium.webdriver.support import expected_conditions as EC\n",
    "from selenium.webdriver.support.ui import WebDriverWait\n",
    "from bs4 import BeautifulSoup\n",
    "import pandas as pd\n",
    "import time\n",
    "\n",
    "\n",
    "#Starts the driver and goes to our starting webpage\n",
    "driver = webdriver.Chrome()\n",
    "driver.get('https://twitter.com/i/flow/login')\n",
    "time.sleep(2)\n",
    "\n",
    "#Variable that contains the celebirty or profile our program will scrape\n",
    "#This program will scrape Narendra Modi tweets as indicated in the line below\n",
    "celebrity = 'Narendra Modi'\n",
    "\n",
    "#inputs an email and password for the login details\n",
    "login = driver.find_element(By.XPATH, '//*[@id=\"layers\"]/div/div/div/div/div/div/div[2]/div[2]/div/div/div[2]/div[2]/div/div/div/div[5]/label/div/div[2]/div/input')\n",
    "login.send_keys('skskhan120')\n",
    "login.send_keys(Keys.ENTER)\n",
    "time.sleep(2)\n",
    "\n",
    "password = driver.find_element(By.XPATH, '//*[@id=\"layers\"]/div/div/div/div/div/div/div[2]/div[2]/div/div/div[2]/div[2]/div[1]/div/div/div[3]/div/label/div/div[2]/div[1]/input')\n",
    "password.send_keys('Hacker@123')\n",
    "time.sleep(4)\n",
    "#Presses the login button, and creates a wait time to let the home page fully load in\n",
    "#if your getting an error here just make your browser full screen, it should work then\n",
    "loginButton = driver.find_element(By.XPATH, '//*[@id=\"layers\"]/div/div/div/div/div/div/div[2]/div[2]/div/div/div[2]/div[2]/div[2]/div/div[1]/div/div/div/div').click()\n",
    "\n",
    "#WebDriverWait(driver,5).until(EC.presence_of_element_located((By.XPATH, '//*[@id=\"react-root\"]/div/div/div[2]/main/div/div/div/div[2]/div/div[2]/div/div/div/div[4]/div/section/div/div/div/div/div[2]/div/div/h2/div[2]/span')))\n",
    "\n",
    "#inputs the name from the celebrity variable into the search box and presses enter\n",
    "search = driver.find_element(By.XPATH, '//*[@id=\"react-root\"]/div/div/div[2]/main/div/div/div/div[2]/div/div[2]/div/div/div/div[1]/div/div/div/form/div[1]/div/div/div/label/div[2]/div/input')\n",
    "search.send_keys(celebrity)\n",
    "search.send_keys(Keys.ENTER)\n",
    "time.sleep(2)\n",
    "\n",
    "#Clicks on the people tab which has all the accounts associated with who we searched up\n",
    "peopleButton = driver.find_element(By.XPATH, '//*[@id=\"react-root\"]/div/div/div[2]/main/div/div/div/div[1]/div/div[1]/div[1]/div[2]/nav/div/div[2]/div/div[3]/a/div/div/span').click()\n",
    "time.sleep(2)\n",
    "\n",
    "#clicks on our celebrities profile\n",
    "profile = driver.find_element(By.XPATH, '//*[@id=\"react-root\"]/div/div/div[2]/main/div/div/div/div[1]/div/div[3]/section/div/div/div/div/div[1]/div/div/div/div/div[2]/div/div[1]/div/div[1]/a/div/div[1]/span/span[1]').click()\n",
    "time.sleep(2)\n",
    "\n",
    "#Imports the HTML of the celebrities profile into python\n",
    "soup = BeautifulSoup(driver.page_source, 'lxml')\n",
    "\n",
    "#grabs the HTML of each tweet\n",
    "postings = soup.find_all('div', class_ = 'css-901oao r-1nao33i r-37j5jr r-a023e6 r-16dba41 r-rjixqe r-bcqeeo r-bnwqim r-qvutc0')\n",
    "\n",
    "#This loop will keep scrolling down the webpage loading in and collecting new tweets until we have scraped 100 unique tweets\n",
    "tweets = []\n",
    "while True:\n",
    "    for post in postings:\n",
    "        tweets.append(post.text)\n",
    "    driver.execute_script('window.scrollTo(0, document.body.scrollHeight)')\n",
    "    time.sleep(1)\n",
    "    soup = BeautifulSoup(driver.page_source, 'lxml')\n",
    "    postings = soup.find_all('div', class_ = 'css-901oao r-1nao33i r-37j5jr r-a023e6 r-16dba41 r-rjixqe r-bcqeeo r-bnwqim r-qvutc0')\n",
    "    tweets2 = list(set(tweets))\n",
    "    if len(tweets2)>100:\n",
    "        break\n",
    "        \n",
    "# To Store whole extracted tweets in csv file using dataframe\n",
    "df = pd.DataFrame({'Tweets':['']})\n",
    "for tweet in tweets2:\n",
    "    df = df.append({'Tweets':tweet}, ignore_index=True)\n",
    "    \n",
    "#exports the data as a csv\n",
    "df.to_csv(f'D:\\\\Web Scraping\\\\Jupyter Files\\\\csv_files\\\\{celebrity}.csv')\n",
    "\n"
   ]
  },
  {
   "cell_type": "code",
   "execution_count": null,
   "id": "12de958a",
   "metadata": {},
   "outputs": [],
   "source": []
  }
 ],
 "metadata": {
  "kernelspec": {
   "display_name": "Python 3 (ipykernel)",
   "language": "python",
   "name": "python3"
  },
  "language_info": {
   "codemirror_mode": {
    "name": "ipython",
    "version": 3
   },
   "file_extension": ".py",
   "mimetype": "text/x-python",
   "name": "python",
   "nbconvert_exporter": "python",
   "pygments_lexer": "ipython3",
   "version": "3.11.1"
  }
 },
 "nbformat": 4,
 "nbformat_minor": 5
}
