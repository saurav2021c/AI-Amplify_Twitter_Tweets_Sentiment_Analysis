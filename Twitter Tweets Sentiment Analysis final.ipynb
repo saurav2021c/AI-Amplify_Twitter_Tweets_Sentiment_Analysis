{
 "cells": [
  {
   "cell_type": "markdown",
   "id": "85c24552",
   "metadata": {},
   "source": [
    "# Twitter Sentiment Analysis of any Twitter Handle or Hashtag\n",
    "Problem Description: Your task is to develop an AI system capable of performing sentiment analysis on the tweets of any given Twitter handle or associated with a specific hashtag. The system should be able to analyze the text of the tweets, categorize them as positive, negative, or neutral, and provide an overall sentiment distribution.\n",
    "\n",
    "Input: Tweets from a specific Twitter handle or associated with a specific hashtag. The system should be designed to handle a large volume of tweets and diverse language use, including slang, abbreviations, and emojis.\n",
    "\n",
    "Output: Percentage distribution of positive, negative, and neutral sentiments among the analyzed tweets. The system should provide a clear breakdown of the sentiment distribution, offering insights into the overall sentiment associated with the given Twitter handle or hashtag."
   ]
  },
  {
   "cell_type": "code",
   "execution_count": 59,
   "id": "1cad0611",
   "metadata": {},
   "outputs": [],
   "source": [
    "from selenium import webdriver\n",
    "from selenium.webdriver.common.by import By\n",
    "from selenium.webdriver.common.keys import Keys\n",
    "from selenium.webdriver.support import expected_conditions as EC\n",
    "from selenium.webdriver.support.ui import WebDriverWait\n",
    "from bs4 import BeautifulSoup\n",
    "import pandas as pd\n",
    "import time\n",
    "import tkinter as tk\n",
    "from tkinter import messagebox\n",
    "from textblob import TextBlob\n",
    "import re\n",
    "import matplotlib.pyplot as plt\n",
    "import langid"
   ]
  },
  {
   "cell_type": "code",
   "execution_count": 79,
   "id": "76e2b527",
   "metadata": {},
   "outputs": [
    {
     "name": "stderr",
     "output_type": "stream",
     "text": [
      "C:\\Users\\Saurav Singh\\AppData\\Local\\Temp\\ipykernel_7060\\1866008976.py:53: FutureWarning: The frame.append method is deprecated and will be removed from pandas in a future version. Use pandas.concat instead.\n",
      "  df = df.append({'Tweets':tweet}, ignore_index=True)\n",
      "C:\\Users\\Saurav Singh\\AppData\\Local\\Temp\\ipykernel_7060\\1866008976.py:53: FutureWarning: The frame.append method is deprecated and will be removed from pandas in a future version. Use pandas.concat instead.\n",
      "  df = df.append({'Tweets':tweet}, ignore_index=True)\n",
      "C:\\Users\\Saurav Singh\\AppData\\Local\\Temp\\ipykernel_7060\\1866008976.py:53: FutureWarning: The frame.append method is deprecated and will be removed from pandas in a future version. Use pandas.concat instead.\n",
      "  df = df.append({'Tweets':tweet}, ignore_index=True)\n",
      "C:\\Users\\Saurav Singh\\AppData\\Local\\Temp\\ipykernel_7060\\1866008976.py:53: FutureWarning: The frame.append method is deprecated and will be removed from pandas in a future version. Use pandas.concat instead.\n",
      "  df = df.append({'Tweets':tweet}, ignore_index=True)\n",
      "C:\\Users\\Saurav Singh\\AppData\\Local\\Temp\\ipykernel_7060\\1866008976.py:53: FutureWarning: The frame.append method is deprecated and will be removed from pandas in a future version. Use pandas.concat instead.\n",
      "  df = df.append({'Tweets':tweet}, ignore_index=True)\n",
      "C:\\Users\\Saurav Singh\\AppData\\Local\\Temp\\ipykernel_7060\\1866008976.py:53: FutureWarning: The frame.append method is deprecated and will be removed from pandas in a future version. Use pandas.concat instead.\n",
      "  df = df.append({'Tweets':tweet}, ignore_index=True)\n",
      "C:\\Users\\Saurav Singh\\AppData\\Local\\Temp\\ipykernel_7060\\1866008976.py:53: FutureWarning: The frame.append method is deprecated and will be removed from pandas in a future version. Use pandas.concat instead.\n",
      "  df = df.append({'Tweets':tweet}, ignore_index=True)\n",
      "C:\\Users\\Saurav Singh\\AppData\\Local\\Temp\\ipykernel_7060\\1866008976.py:53: FutureWarning: The frame.append method is deprecated and will be removed from pandas in a future version. Use pandas.concat instead.\n",
      "  df = df.append({'Tweets':tweet}, ignore_index=True)\n",
      "C:\\Users\\Saurav Singh\\AppData\\Local\\Temp\\ipykernel_7060\\1866008976.py:53: FutureWarning: The frame.append method is deprecated and will be removed from pandas in a future version. Use pandas.concat instead.\n",
      "  df = df.append({'Tweets':tweet}, ignore_index=True)\n",
      "C:\\Users\\Saurav Singh\\AppData\\Local\\Temp\\ipykernel_7060\\1866008976.py:53: FutureWarning: The frame.append method is deprecated and will be removed from pandas in a future version. Use pandas.concat instead.\n",
      "  df = df.append({'Tweets':tweet}, ignore_index=True)\n",
      "C:\\Users\\Saurav Singh\\AppData\\Local\\Temp\\ipykernel_7060\\1866008976.py:53: FutureWarning: The frame.append method is deprecated and will be removed from pandas in a future version. Use pandas.concat instead.\n",
      "  df = df.append({'Tweets':tweet}, ignore_index=True)\n"
     ]
    }
   ],
   "source": [
    "def submit():\n",
    "    global celebrity\n",
    "    celebrity = entry_name.get()\n",
    "    number_tweets = int(no_of_tweets.get())\n",
    "    window.destroy()\n",
    "    \n",
    "    driver = webdriver.Chrome()\n",
    "    driver.get('https://twitter.com/i/flow/login')\n",
    "    time.sleep(2)\n",
    "    \n",
    "    login = driver.find_element(By.XPATH, '//*[@id=\"layers\"]/div/div/div/div/div/div/div[2]/div[2]/div/div/div[2]/div[2]/div/div/div/div[5]/label/div/div[2]/div/input')\n",
    "    login.send_keys('aiamplify123')\n",
    "    login.send_keys(Keys.ENTER)\n",
    "    time.sleep(2)\n",
    "    \n",
    "    password = driver.find_element(By.XPATH, '//*[@id=\"layers\"]/div/div/div/div/div/div/div[2]/div[2]/div/div/div[2]/div[2]/div[1]/div/div/div[3]/div/label/div/div[2]/div[1]/input')\n",
    "    password.send_keys('twitter123')\n",
    "    time.sleep(2)\n",
    "    loginButton = driver.find_element(By.XPATH, '//*[@id=\"layers\"]/div/div/div/div/div/div/div[2]/div[2]/div/div/div[2]/div[2]/div[2]/div/div[1]/div/div/div/div').click()\n",
    "    time.sleep(4)\n",
    "    search = driver.find_element(By.XPATH, '//*[@id=\"react-root\"]/div/div/div[2]/main/div/div/div/div[2]/div/div[2]/div/div/div/div[1]/div/div/div/form/div[1]/div/div/div/label/div[2]/div/input')\n",
    "    search.send_keys(celebrity)\n",
    "    search.send_keys(Keys.ENTER)\n",
    "    time.sleep(2)\n",
    "    \n",
    "    if '#' in celebrity:\n",
    "        pass\n",
    "    else:\n",
    "        peopleButton = driver.find_element(By.XPATH, '//*[@id=\"react-root\"]/div/div/div[2]/main/div/div/div/div[1]/div/div[1]/div[1]/div[2]/nav/div/div[2]/div/div[3]/a/div/div/span').click()\n",
    "        time.sleep(2)\n",
    "    \n",
    "    profile = driver.find_element(By.XPATH, '//*[@id=\"react-root\"]/div/div/div[2]/main/div/div/div/div[1]/div/div[3]/section/div/div/div/div/div[1]/div/div/div/div/div[2]/div/div[1]/div/div[1]/a/div/div[1]/span/span[1]').click()\n",
    "    time.sleep(2)\n",
    "    \n",
    "    soup = BeautifulSoup(driver.page_source, 'lxml')\n",
    "    postings = soup.find_all('div', class_ = 'css-901oao r-1nao33i r-37j5jr r-a023e6 r-16dba41 r-rjixqe r-bcqeeo r-bnwqim r-qvutc0')\n",
    "    \n",
    "    tweets = []\n",
    "    \n",
    "    while True:\n",
    "        for post in postings:\n",
    "            tweets.append(post.text)\n",
    "        driver.execute_script('window.scrollTo(0, document.body.scrollHeight)')\n",
    "        time.sleep(1)\n",
    "        soup = BeautifulSoup(driver.page_source, 'lxml')\n",
    "        postings = soup.find_all('div', class_ = 'css-901oao r-1nao33i r-37j5jr r-a023e6 r-16dba41 r-rjixqe r-bcqeeo r-bnwqim r-qvutc0')\n",
    "        tweets2 = list(set(tweets))\n",
    "        if len(tweets2)>number_tweets:\n",
    "            break\n",
    "    \n",
    "    df = pd.DataFrame({'Tweets':['']})\n",
    "    for tweet in tweets2:\n",
    "        df = df.append({'Tweets':tweet}, ignore_index=True)\n",
    "    \n",
    "    messagebox.showinfo(\"Notification\", \"Tweets Fetching Completed\")\n",
    "    #exports the data as a csv\n",
    "    df.to_csv(f'D:\\\\Twitter Sentiment Analysis\\\\csv\\\\{celebrity}.csv')\n",
    "        \n",
    "window = tk.Tk()\n",
    "window.title(\"Twitter Tweets Search\")\n",
    "\n",
    "# Calculate the screen width and height\n",
    "screen_width = window.winfo_screenwidth()\n",
    "screen_height = window.winfo_screenheight()\n",
    "\n",
    "# Set the size of the popup window to 80% of the screen\n",
    "popup_width = int(screen_width * 0.5)\n",
    "popup_height = int(screen_height * 0.3)\n",
    "\n",
    "# Center the window on the screen\n",
    "x_position = int((screen_width - popup_width) / 2)\n",
    "y_position = int((screen_height - popup_height) / 2)\n",
    "\n",
    "# Set the window dimensions and position\n",
    "window.geometry(f\"{popup_width}x{popup_height}+{x_position}+{y_position}\")\n",
    "\n",
    "# Create labels and entry fields \n",
    "label_handle = tk.Label(window, text=\"Twitter Handle or HashTags\")\n",
    "label_handle.pack()\n",
    "entry_name = tk.Entry(window, width=60)\n",
    "entry_name.pack()\n",
    "\n",
    "label_length = tk.Label(window, text=\"Number of Tweets\")\n",
    "label_length.pack()\n",
    "no_of_tweets = tk.Entry(window, width=60)\n",
    "no_of_tweets.pack()\n",
    "# Create a submit button\n",
    "submit_button = tk.Button(window, text=\"Submit\", command=submit)\n",
    "submit_button.pack()\n",
    "\n",
    "# Start the main GUI loop\n",
    "window.mainloop()\n"
   ]
  },
  {
   "cell_type": "code",
   "execution_count": 80,
   "id": "7485e0da",
   "metadata": {},
   "outputs": [
    {
     "name": "stdout",
     "output_type": "stream",
     "text": [
      "Number of English tweets: 12\n",
      "Number of Hindi tweets: 0\n"
     ]
    }
   ],
   "source": [
    "\n",
    "# Function to remove emojis from the text\n",
    "def remove_emojis(text):\n",
    "    emoji_pattern = re.compile(\n",
    "        pattern=\"[\"\n",
    "                u\"\\U0001F600-\\U0001F64F\"  # emoticons\n",
    "                u\"\\U0001F300-\\U0001F5FF\"  # symbols & pictographs\n",
    "                u\"\\U0001F680-\\U0001F6FF\"  # transport & map symbols\n",
    "                u\"\\U0001F700-\\U0001F77F\"  # alchemical symbols\n",
    "                u\"\\U0001F780-\\U0001F7FF\"  # Geometric Shapes Extended\n",
    "                u\"\\U0001F800-\\U0001F8FF\"  # Supplemental Arrows-C\n",
    "                u\"\\U0001F900-\\U0001F9FF\"  # Supplemental Symbols and Pictographs\n",
    "                u\"\\U0001FA00-\\U0001FA6F\"  # Chess Symbols\n",
    "                u\"\\U0001FA70-\\U0001FAFF\"  # Symbols and Pictographs Extended-A\n",
    "                u\"\\U00002702-\\U000027B0\"  # Dingbats\n",
    "                u\"\\U000024C2-\\U0001F251\"  # enclosed characters\n",
    "                \"]+\",\n",
    "        flags=re.UNICODE\n",
    "    )\n",
    "    return emoji_pattern.sub(r'', text)\n",
    "\n",
    "# Function to analyze sentiment\n",
    "def analyze_sentiment(tweet_text):\n",
    "    # Remove emojis from the text\n",
    "    cleaned_text = remove_emojis(str(tweet_text))  # Convert to string\n",
    "    \n",
    "    # Perform sentiment analysis\n",
    "    analysis = TextBlob(cleaned_text)\n",
    "    sentiment_score = analysis.sentiment.polarity\n",
    "    \n",
    "    if sentiment_score > 0:\n",
    "        return 'positive'\n",
    "    elif sentiment_score < 0:\n",
    "        return 'negative'\n",
    "    else:\n",
    "        return 'neutral'\n",
    "    \n",
    "# Function to check if a tweet is in Hindi\n",
    "def is_hindi_tweet(tweet_text):\n",
    "    if isinstance(tweet_text, str):  # Check if the tweet_text is a string\n",
    "        lang, _ = langid.classify(tweet_text)\n",
    "        return lang == 'hi'\n",
    "    return False  # Return False for non-string values (NaN, etc.)\n",
    "\n",
    "\n",
    "# Read the CSV file into a pandas DataFrame\n",
    "df = pd.read_csv(f'D:\\\\Twitter Sentiment Analysis\\\\csv\\\\{celebrity}.csv')\n",
    "\n",
    "# Perform sentiment analysis on the tweets in the DataFrame\n",
    "df['Language'] = df['Tweets'].apply(lambda tweet: 'hi' if is_hindi_tweet(tweet) else 'en')\n",
    "df['Sentiment'] = df['Tweets'].apply(analyze_sentiment)\n",
    "\n",
    "# Perform sentiment analysis on the tweets in the DataFrame\n",
    "df['Sentiment'] = df['Tweets'].astype(str).apply(analyze_sentiment)  # Convert to string before applying\n",
    "\n",
    "# Count the number of English and Hindi tweets\n",
    "num_english_tweets = df[df['Language'] == 'en'].shape[0]\n",
    "num_hindi_tweets = df[df['Language'] == 'hi'].shape[0]\n",
    "\n",
    "print(\"Number of English tweets:\", num_english_tweets)\n",
    "print(\"Number of Hindi tweets:\", num_hindi_tweets)\n",
    "# Print the DataFrame with the 'Sentiment' column\n",
    "#print(df)"
   ]
  },
  {
   "cell_type": "code",
   "execution_count": 81,
   "id": "29cea08e",
   "metadata": {},
   "outputs": [
    {
     "name": "stdout",
     "output_type": "stream",
     "text": [
      "Percentage distribution of sentiments:\n",
      "Positive: 66.67%\n",
      "Negative: 16.67%\n",
      "Neutral: 16.67%\n"
     ]
    },
    {
     "data": {
      "image/png": "[encoded data removed]",
      "text/plain": [
       "<Figure size 800x600 with 1 Axes>"
      ]
     },
     "metadata": {},
     "output_type": "display_data"
    },
    {
     "name": "stdout",
     "output_type": "stream",
     "text": [
      "This Twitter Handle give Positive Sentiment to Society\n"
     ]
    }
   ],
   "source": [
    "# Calculate the sentiment distribution\n",
    "sentiment_distribution = df['Sentiment'].value_counts(normalize=True) * 100\n",
    "\n",
    "# Output the results\n",
    "print(\"Percentage distribution of sentiments:\")\n",
    "print(\"Positive: {:.2f}%\".format(sentiment_distribution.get('positive')))\n",
    "print(\"Negative: {:.2f}%\".format(sentiment_distribution.get('negative')))\n",
    "print(\"Neutral: {:.2f}%\".format(sentiment_distribution.get('neutral')))\n",
    "# Data for sentiment distribution\n",
    "labels = ['Positive', 'Negative', 'Neutral']\n",
    "sizes = [sentiment_distribution['positive'], sentiment_distribution['negative'], sentiment_distribution['neutral']]\n",
    "colors = ['#33ff33', '#ff3333', '#999999']  # Green for positive, Red for negative, Gray for neutral\n",
    "\n",
    "# Create the pie chart\n",
    "plt.figure(figsize=(8, 6))\n",
    "plt.pie(sizes, labels=labels, colors=colors, autopct='%1.1f%%', startangle=140)\n",
    "\n",
    "# Add a title\n",
    "plt.title('Sentiment Distribution of Analyzed Tweets')\n",
    "\n",
    "# Display the pie chart\n",
    "plt.axis('equal')  # Equal aspect ratio ensures the pie chart is circular\n",
    "plt.show()\n",
    "\n",
    "if 'postive'> 'negative':\n",
    "    print(\"This Twitter Handle give Positive Sentiment to Society\")\n",
    "elif 'negative'> 'neutral':\n",
    "    print(\"This Twitter Handle give Negative Sentiment to Society\")\n",
    "else:\n",
    "    print(\"This Twitter Handle give Neutral Sentiment to Society\")"
   ]
  },
  {
   "cell_type": "code",
   "execution_count": 82,
   "id": "d46db8ff",
   "metadata": {},
   "outputs": [
    {
     "data": {
      "text/plain": [
       "(12, 4)"
      ]
     },
     "execution_count": 82,
     "metadata": {},
     "output_type": "execute_result"
    }
   ],
   "source": [
    "df.shape"
   ]
  },
  {
   "cell_type": "code",
   "execution_count": 84,
   "id": "87e79b5b",
   "metadata": {},
   "outputs": [],
   "source": [
    "#exports the data as a csv in which sentiments data are updated\n",
    "df.to_csv(f'D:\\\\Twitter Sentiment Analysis\\\\csv\\\\{celebrity}.csv')"
   ]
  },
  {
   "cell_type": "code",
   "execution_count": null,
   "id": "c0abaffa",
   "metadata": {},
   "outputs": [],
   "source": []
  }
 ],
 "metadata": {
  "kernelspec": {
   "display_name": "Python 3 (ipykernel)",
   "language": "python",
   "name": "python3"
  },
  "language_info": {
   "codemirror_mode": {
    "name": "ipython",
    "version": 3
   },
   "file_extension": ".py",
   "mimetype": "text/x-python",
   "name": "python",
   "nbconvert_exporter": "python",
   "pygments_lexer": "ipython3",
   "version": "3.11.1"
  }
 },
 "nbformat": 4,
 "nbformat_minor": 5
}
